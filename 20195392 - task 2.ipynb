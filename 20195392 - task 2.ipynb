{
  "nbformat": 4,
  "nbformat_minor": 0,
  "metadata": {
    "colab": {
      "name": "Untitled1.ipynb",
      "provenance": [],
      "authorship_tag": "ABX9TyPc8DkO1DAqkJdQtbuWnD+5",
      "include_colab_link": true
    },
    "kernelspec": {
      "name": "python3",
      "display_name": "Python 3"
    },
    "language_info": {
      "name": "python"
    }
  },
  "cells": [
    {
      "cell_type": "markdown",
      "metadata": {
        "id": "view-in-github",
        "colab_type": "text"
      },
      "source": [
        "<a href=\"https://colab.research.google.com/github/Mbetini/Hello/blob/main/20195392%20-%20task%202.ipynb\" target=\"_parent\"><img src=\"https://colab.research.google.com/assets/colab-badge.svg\" alt=\"Open In Colab\"/></a>"
      ]
    },
    {
      "cell_type": "code",
      "metadata": {
        "id": "vZi_G0sx_Kh-"
      },
      "source": [
        ""
      ],
      "execution_count": 61,
      "outputs": []
    },
    {
      "cell_type": "code",
      "metadata": {
        "id": "mGXKEXVQHGm0"
      },
      "source": [
        "#Source: https://www.kaggle.com/dansbecker/your-first-machine-learning-model\n",
        "#Code modified by Ambi, Cardiff Met University\n",
        "#ajayal@cardiffmet.ac.uk\n",
        "\n",
        "#For CIS7031 Module"
      ],
      "execution_count": 62,
      "outputs": []
    },
    {
      "cell_type": "code",
      "metadata": {
        "id": "ANVTkKjlHGnB"
      },
      "source": [
        "import pandas as pd\n",
        "import numpy as np\n",
        "from sklearn.preprocessing import MinMaxScaler\n",
        "\n",
        "def getNormalizedData(X):\n",
        "   \n",
        "    # fit scaler on training data\n",
        "    norm = MinMaxScaler().fit(X)\n",
        "\n",
        "    # transform training data\n",
        "    X_train_norm = norm.transform(X)\n",
        "    X_train_norm = pd.DataFrame(X_train_norm, columns=X.columns.values)\n",
        "\n",
        "    X_train_norm;\n",
        "    return X_train_norm;"
      ],
      "execution_count": 63,
      "outputs": []
    },
    {
      "cell_type": "code",
      "metadata": {
        "id": "oNkiZkDlHGnC"
      },
      "source": [
        "from numpy import asarray\n",
        "from sklearn.datasets import make_regression\n",
        "from keras.models import Sequential\n",
        "from keras.layers import Dense\n",
        "import pandas as pd\n",
        "import numpy as np\n",
        "from sklearn.linear_model import LinearRegression\n",
        "from sklearn.metrics import mean_squared_error\n",
        "    \n",
        "def get_nn_model_function1(n_inputs, n_outputs):\n",
        "    nn_model = Sequential()\n",
        "\n",
        "    nn_model.add(tf.keras.layers.Dense(50, activation='relu'))\n",
        "    nn_model.add(tf.keras.layers.Dense(100, activation='relu'))\n",
        "    nn_model.add(tf.keras.layers.Dense(50, activation='relu'))\n",
        "    nn_model.add(tf.keras.layers.Dense(1))\n",
        "\n",
        "    #nn_model.compile(loss='mean_squared_error', optimizer='adam')\n",
        "    nn_model.compile('adam', loss='mse', metrics=['mse'])\n",
        "    return nn_model\n",
        "\n",
        "# get the model\n",
        "def get_nn_model_function2(n_inputs, n_outputs):\n",
        "    network = Sequential()\n",
        "    #network.add(Dense(8, input_shape=(n_inputs,), activation='relu'))\n",
        "    #network.add(Dense(8, input_shape=(n_inputs,), kernel_initializer='he_uniform', activation='relu'))\n",
        "    network.add(Dense(n_inputs, input_shape=(n_inputs,), kernel_initializer='normal', activation='relu'))\n",
        "    \n",
        "    network.add(Dense(16, activation='relu'))\n",
        "    network.add(Dense(6, activation='relu'))\n",
        "    network.add(Dense(4, activation='relu'))\n",
        "    \n",
        "    network.add(Dense(n_outputs, activation='relu'))\n",
        "\n",
        "    network.compile('adam', loss='mse', metrics=['mse'])\n",
        "    return network"
      ],
      "execution_count": 64,
      "outputs": []
    },
    {
      "cell_type": "code",
      "metadata": {
        "colab": {
          "base_uri": "https://localhost:8080/",
          "height": 317
        },
        "id": "N8eLXtACHGnD",
        "outputId": "b22b548e-de47-4df3-ca45-f5e0f2aa3b63"
      },
      "source": [
        "# save filepath to variable for easier access\n",
        "#melbourne_file_path = 'melbourne-housing-snapshot/melb_data.csv'\n",
        "#melbourne_file_path = 'melbourneHousingSnapshot/melb_data.csv'\n",
        "# read the data and store data in DataFrame titled melbourne_data\n",
        "#melbourne_data = pd.read_csv(melbourne_file_path) \n",
        "\n",
        "#Data Sournce: https://www.kaggle.com/dansbecker/melbourne-housing-snapshot\n",
        "\n",
        "url=\"https://raw.githubusercontent.com/ambi1999/mldataset/main/melb_data.csv\"\n",
        "#url=\"https://github.com/ambi1999/mldataset\"\n",
        "melbourne_data = pd.read_csv(url)\n",
        "\n",
        "\n",
        "\n",
        "# print a summary of the data in Melbourne data\n",
        "melbourne_data.describe()"
      ],
      "execution_count": 65,
      "outputs": [
        {
          "output_type": "execute_result",
          "data": {
            "text/html": [
              "<div>\n",
              "<style scoped>\n",
              "    .dataframe tbody tr th:only-of-type {\n",
              "        vertical-align: middle;\n",
              "    }\n",
              "\n",
              "    .dataframe tbody tr th {\n",
              "        vertical-align: top;\n",
              "    }\n",
              "\n",
              "    .dataframe thead th {\n",
              "        text-align: right;\n",
              "    }\n",
              "</style>\n",
              "<table border=\"1\" class=\"dataframe\">\n",
              "  <thead>\n",
              "    <tr style=\"text-align: right;\">\n",
              "      <th></th>\n",
              "      <th>Rooms</th>\n",
              "      <th>Price</th>\n",
              "      <th>Distance</th>\n",
              "      <th>Postcode</th>\n",
              "      <th>Bedroom2</th>\n",
              "      <th>Bathroom</th>\n",
              "      <th>Car</th>\n",
              "      <th>Landsize</th>\n",
              "      <th>BuildingArea</th>\n",
              "      <th>YearBuilt</th>\n",
              "      <th>Lattitude</th>\n",
              "      <th>Longtitude</th>\n",
              "      <th>Propertycount</th>\n",
              "    </tr>\n",
              "  </thead>\n",
              "  <tbody>\n",
              "    <tr>\n",
              "      <th>count</th>\n",
              "      <td>13580.000000</td>\n",
              "      <td>1.358000e+04</td>\n",
              "      <td>13580.000000</td>\n",
              "      <td>13580.000000</td>\n",
              "      <td>13580.000000</td>\n",
              "      <td>13580.000000</td>\n",
              "      <td>13518.000000</td>\n",
              "      <td>13580.000000</td>\n",
              "      <td>7130.000000</td>\n",
              "      <td>8205.000000</td>\n",
              "      <td>13580.000000</td>\n",
              "      <td>13580.000000</td>\n",
              "      <td>13580.000000</td>\n",
              "    </tr>\n",
              "    <tr>\n",
              "      <th>mean</th>\n",
              "      <td>2.937997</td>\n",
              "      <td>1.075684e+06</td>\n",
              "      <td>10.137776</td>\n",
              "      <td>3105.301915</td>\n",
              "      <td>2.914728</td>\n",
              "      <td>1.534242</td>\n",
              "      <td>1.610075</td>\n",
              "      <td>558.416127</td>\n",
              "      <td>151.967650</td>\n",
              "      <td>1964.684217</td>\n",
              "      <td>-37.809203</td>\n",
              "      <td>144.995216</td>\n",
              "      <td>7454.417378</td>\n",
              "    </tr>\n",
              "    <tr>\n",
              "      <th>std</th>\n",
              "      <td>0.955748</td>\n",
              "      <td>6.393107e+05</td>\n",
              "      <td>5.868725</td>\n",
              "      <td>90.676964</td>\n",
              "      <td>0.965921</td>\n",
              "      <td>0.691712</td>\n",
              "      <td>0.962634</td>\n",
              "      <td>3990.669241</td>\n",
              "      <td>541.014538</td>\n",
              "      <td>37.273762</td>\n",
              "      <td>0.079260</td>\n",
              "      <td>0.103916</td>\n",
              "      <td>4378.581772</td>\n",
              "    </tr>\n",
              "    <tr>\n",
              "      <th>min</th>\n",
              "      <td>1.000000</td>\n",
              "      <td>8.500000e+04</td>\n",
              "      <td>0.000000</td>\n",
              "      <td>3000.000000</td>\n",
              "      <td>0.000000</td>\n",
              "      <td>0.000000</td>\n",
              "      <td>0.000000</td>\n",
              "      <td>0.000000</td>\n",
              "      <td>0.000000</td>\n",
              "      <td>1196.000000</td>\n",
              "      <td>-38.182550</td>\n",
              "      <td>144.431810</td>\n",
              "      <td>249.000000</td>\n",
              "    </tr>\n",
              "    <tr>\n",
              "      <th>25%</th>\n",
              "      <td>2.000000</td>\n",
              "      <td>6.500000e+05</td>\n",
              "      <td>6.100000</td>\n",
              "      <td>3044.000000</td>\n",
              "      <td>2.000000</td>\n",
              "      <td>1.000000</td>\n",
              "      <td>1.000000</td>\n",
              "      <td>177.000000</td>\n",
              "      <td>93.000000</td>\n",
              "      <td>1940.000000</td>\n",
              "      <td>-37.856822</td>\n",
              "      <td>144.929600</td>\n",
              "      <td>4380.000000</td>\n",
              "    </tr>\n",
              "    <tr>\n",
              "      <th>50%</th>\n",
              "      <td>3.000000</td>\n",
              "      <td>9.030000e+05</td>\n",
              "      <td>9.200000</td>\n",
              "      <td>3084.000000</td>\n",
              "      <td>3.000000</td>\n",
              "      <td>1.000000</td>\n",
              "      <td>2.000000</td>\n",
              "      <td>440.000000</td>\n",
              "      <td>126.000000</td>\n",
              "      <td>1970.000000</td>\n",
              "      <td>-37.802355</td>\n",
              "      <td>145.000100</td>\n",
              "      <td>6555.000000</td>\n",
              "    </tr>\n",
              "    <tr>\n",
              "      <th>75%</th>\n",
              "      <td>3.000000</td>\n",
              "      <td>1.330000e+06</td>\n",
              "      <td>13.000000</td>\n",
              "      <td>3148.000000</td>\n",
              "      <td>3.000000</td>\n",
              "      <td>2.000000</td>\n",
              "      <td>2.000000</td>\n",
              "      <td>651.000000</td>\n",
              "      <td>174.000000</td>\n",
              "      <td>1999.000000</td>\n",
              "      <td>-37.756400</td>\n",
              "      <td>145.058305</td>\n",
              "      <td>10331.000000</td>\n",
              "    </tr>\n",
              "    <tr>\n",
              "      <th>max</th>\n",
              "      <td>10.000000</td>\n",
              "      <td>9.000000e+06</td>\n",
              "      <td>48.100000</td>\n",
              "      <td>3977.000000</td>\n",
              "      <td>20.000000</td>\n",
              "      <td>8.000000</td>\n",
              "      <td>10.000000</td>\n",
              "      <td>433014.000000</td>\n",
              "      <td>44515.000000</td>\n",
              "      <td>2018.000000</td>\n",
              "      <td>-37.408530</td>\n",
              "      <td>145.526350</td>\n",
              "      <td>21650.000000</td>\n",
              "    </tr>\n",
              "  </tbody>\n",
              "</table>\n",
              "</div>"
            ],
            "text/plain": [
              "              Rooms         Price  ...    Longtitude  Propertycount\n",
              "count  13580.000000  1.358000e+04  ...  13580.000000   13580.000000\n",
              "mean       2.937997  1.075684e+06  ...    144.995216    7454.417378\n",
              "std        0.955748  6.393107e+05  ...      0.103916    4378.581772\n",
              "min        1.000000  8.500000e+04  ...    144.431810     249.000000\n",
              "25%        2.000000  6.500000e+05  ...    144.929600    4380.000000\n",
              "50%        3.000000  9.030000e+05  ...    145.000100    6555.000000\n",
              "75%        3.000000  1.330000e+06  ...    145.058305   10331.000000\n",
              "max       10.000000  9.000000e+06  ...    145.526350   21650.000000\n",
              "\n",
              "[8 rows x 13 columns]"
            ]
          },
          "metadata": {
            "tags": []
          },
          "execution_count": 65
        }
      ]
    },
    {
      "cell_type": "code",
      "metadata": {
        "colab": {
          "base_uri": "https://localhost:8080/"
        },
        "id": "mXKgYSocHGnF",
        "outputId": "677be01b-aba0-4525-b951-13aeddc7b686"
      },
      "source": [
        "print(melbourne_data.head(20))"
      ],
      "execution_count": 66,
      "outputs": [
        {
          "output_type": "stream",
          "text": [
            "        Suburb              Address  ...             Regionname Propertycount\n",
            "0   Abbotsford         85 Turner St  ...  Northern Metropolitan        4019.0\n",
            "1   Abbotsford      25 Bloomburg St  ...  Northern Metropolitan        4019.0\n",
            "2   Abbotsford         5 Charles St  ...  Northern Metropolitan        4019.0\n",
            "3   Abbotsford     40 Federation La  ...  Northern Metropolitan        4019.0\n",
            "4   Abbotsford          55a Park St  ...  Northern Metropolitan        4019.0\n",
            "5   Abbotsford       129 Charles St  ...  Northern Metropolitan        4019.0\n",
            "6   Abbotsford         124 Yarra St  ...  Northern Metropolitan        4019.0\n",
            "7   Abbotsford        98 Charles St  ...  Northern Metropolitan        4019.0\n",
            "8   Abbotsford   6/241 Nicholson St  ...  Northern Metropolitan        4019.0\n",
            "9   Abbotsford        10 Valiant St  ...  Northern Metropolitan        4019.0\n",
            "10  Abbotsford   411/8 Grosvenor St  ...  Northern Metropolitan        4019.0\n",
            "11  Abbotsford      40 Nicholson St  ...  Northern Metropolitan        4019.0\n",
            "12  Abbotsford  123/56 Nicholson St  ...  Northern Metropolitan        4019.0\n",
            "13  Abbotsford        45 William St  ...  Northern Metropolitan        4019.0\n",
            "14  Abbotsford   7/20 Abbotsford St  ...  Northern Metropolitan        4019.0\n",
            "15  Abbotsford        16 William St  ...  Northern Metropolitan        4019.0\n",
            "16  Abbotsford          42 Henry St  ...  Northern Metropolitan        4019.0\n",
            "17  Abbotsford          78 Yarra St  ...  Northern Metropolitan        4019.0\n",
            "18  Abbotsford     196 Nicholson St  ...  Northern Metropolitan        4019.0\n",
            "19  Abbotsford        42 Valiant St  ...  Northern Metropolitan        4019.0\n",
            "\n",
            "[20 rows x 21 columns]\n"
          ],
          "name": "stdout"
        }
      ]
    },
    {
      "cell_type": "code",
      "metadata": {
        "colab": {
          "base_uri": "https://localhost:8080/"
        },
        "id": "fuScgaQ9HGnF",
        "outputId": "f57a06c7-6689-4d5c-f541-e976d10e2fb5"
      },
      "source": [
        "melbourne_data.columns"
      ],
      "execution_count": 67,
      "outputs": [
        {
          "output_type": "execute_result",
          "data": {
            "text/plain": [
              "Index(['Suburb', 'Address', 'Rooms', 'Type', 'Price', 'Method', 'SellerG',\n",
              "       'Date', 'Distance', 'Postcode', 'Bedroom2', 'Bathroom', 'Car',\n",
              "       'Landsize', 'BuildingArea', 'YearBuilt', 'CouncilArea', 'Lattitude',\n",
              "       'Longtitude', 'Regionname', 'Propertycount'],\n",
              "      dtype='object')"
            ]
          },
          "metadata": {
            "tags": []
          },
          "execution_count": 67
        }
      ]
    },
    {
      "cell_type": "code",
      "metadata": {
        "id": "mc4KfH-SHGnG"
      },
      "source": [
        "# The Melbourne data has some missing values (some houses for which some variables weren't recorded.)\n",
        "# We'll learn to handle missing values in a later tutorial.  \n",
        "# Your Iowa data doesn't have missing values in the columns you use. \n",
        "# So we will take the simplest option for now, and drop houses from our data. \n",
        "# Don't worry about this much for now, though the code is:\n",
        "\n",
        "# dropna drops missing values (think of na as \"not available\")\n",
        "melbourne_data = melbourne_data.dropna(axis=0)"
      ],
      "execution_count": 68,
      "outputs": []
    },
    {
      "cell_type": "code",
      "metadata": {
        "id": "SuWkVtreHGnH"
      },
      "source": [
        "y = melbourne_data.Price\n"
      ],
      "execution_count": 69,
      "outputs": []
    },
    {
      "cell_type": "code",
      "metadata": {
        "colab": {
          "base_uri": "https://localhost:8080/"
        },
        "id": "HMC5oP61kXRq",
        "outputId": "254411a0-ce59-4101-f8bf-30a76a4e8f37"
      },
      "source": [
        "print(y)"
      ],
      "execution_count": 70,
      "outputs": [
        {
          "output_type": "stream",
          "text": [
            "1        1035000.0\n",
            "2        1465000.0\n",
            "4        1600000.0\n",
            "6        1876000.0\n",
            "7        1636000.0\n",
            "           ...    \n",
            "12205     601000.0\n",
            "12206    1050000.0\n",
            "12207     385000.0\n",
            "12209     560000.0\n",
            "12212    2450000.0\n",
            "Name: Price, Length: 6196, dtype: float64\n"
          ],
          "name": "stdout"
        }
      ]
    },
    {
      "cell_type": "code",
      "metadata": {
        "id": "T6fXeXfnHGnH"
      },
      "source": [
        "#melbourne_features = ['Rooms', 'Bathroom', 'Landsize', 'Lattitude', 'Longtitude']\n",
        "melbourne_features = ['Rooms', 'Bathroom', 'Landsize', 'Lattitude','Car']"
      ],
      "execution_count": 71,
      "outputs": []
    },
    {
      "cell_type": "code",
      "metadata": {
        "id": "r1m9BhEWHGnI"
      },
      "source": [
        "X = melbourne_data[melbourne_features]"
      ],
      "execution_count": 72,
      "outputs": []
    },
    {
      "cell_type": "code",
      "metadata": {
        "colab": {
          "base_uri": "https://localhost:8080/",
          "height": 297
        },
        "id": "Poq1NS9cHGnI",
        "outputId": "3ae7921b-cba0-4755-80b7-5ce6f14f70f1"
      },
      "source": [
        "X.describe()"
      ],
      "execution_count": 73,
      "outputs": [
        {
          "output_type": "execute_result",
          "data": {
            "text/html": [
              "<div>\n",
              "<style scoped>\n",
              "    .dataframe tbody tr th:only-of-type {\n",
              "        vertical-align: middle;\n",
              "    }\n",
              "\n",
              "    .dataframe tbody tr th {\n",
              "        vertical-align: top;\n",
              "    }\n",
              "\n",
              "    .dataframe thead th {\n",
              "        text-align: right;\n",
              "    }\n",
              "</style>\n",
              "<table border=\"1\" class=\"dataframe\">\n",
              "  <thead>\n",
              "    <tr style=\"text-align: right;\">\n",
              "      <th></th>\n",
              "      <th>Rooms</th>\n",
              "      <th>Bathroom</th>\n",
              "      <th>Landsize</th>\n",
              "      <th>Lattitude</th>\n",
              "      <th>Car</th>\n",
              "    </tr>\n",
              "  </thead>\n",
              "  <tbody>\n",
              "    <tr>\n",
              "      <th>count</th>\n",
              "      <td>6196.000000</td>\n",
              "      <td>6196.000000</td>\n",
              "      <td>6196.000000</td>\n",
              "      <td>6196.000000</td>\n",
              "      <td>6196.000000</td>\n",
              "    </tr>\n",
              "    <tr>\n",
              "      <th>mean</th>\n",
              "      <td>2.931407</td>\n",
              "      <td>1.576340</td>\n",
              "      <td>471.006940</td>\n",
              "      <td>-37.807904</td>\n",
              "      <td>1.573596</td>\n",
              "    </tr>\n",
              "    <tr>\n",
              "      <th>std</th>\n",
              "      <td>0.971079</td>\n",
              "      <td>0.711362</td>\n",
              "      <td>897.449881</td>\n",
              "      <td>0.075850</td>\n",
              "      <td>0.929947</td>\n",
              "    </tr>\n",
              "    <tr>\n",
              "      <th>min</th>\n",
              "      <td>1.000000</td>\n",
              "      <td>1.000000</td>\n",
              "      <td>0.000000</td>\n",
              "      <td>-38.164920</td>\n",
              "      <td>0.000000</td>\n",
              "    </tr>\n",
              "    <tr>\n",
              "      <th>25%</th>\n",
              "      <td>2.000000</td>\n",
              "      <td>1.000000</td>\n",
              "      <td>152.000000</td>\n",
              "      <td>-37.855438</td>\n",
              "      <td>1.000000</td>\n",
              "    </tr>\n",
              "    <tr>\n",
              "      <th>50%</th>\n",
              "      <td>3.000000</td>\n",
              "      <td>1.000000</td>\n",
              "      <td>373.000000</td>\n",
              "      <td>-37.802250</td>\n",
              "      <td>1.000000</td>\n",
              "    </tr>\n",
              "    <tr>\n",
              "      <th>75%</th>\n",
              "      <td>4.000000</td>\n",
              "      <td>2.000000</td>\n",
              "      <td>628.000000</td>\n",
              "      <td>-37.758200</td>\n",
              "      <td>2.000000</td>\n",
              "    </tr>\n",
              "    <tr>\n",
              "      <th>max</th>\n",
              "      <td>8.000000</td>\n",
              "      <td>8.000000</td>\n",
              "      <td>37000.000000</td>\n",
              "      <td>-37.457090</td>\n",
              "      <td>10.000000</td>\n",
              "    </tr>\n",
              "  </tbody>\n",
              "</table>\n",
              "</div>"
            ],
            "text/plain": [
              "             Rooms     Bathroom      Landsize    Lattitude          Car\n",
              "count  6196.000000  6196.000000   6196.000000  6196.000000  6196.000000\n",
              "mean      2.931407     1.576340    471.006940   -37.807904     1.573596\n",
              "std       0.971079     0.711362    897.449881     0.075850     0.929947\n",
              "min       1.000000     1.000000      0.000000   -38.164920     0.000000\n",
              "25%       2.000000     1.000000    152.000000   -37.855438     1.000000\n",
              "50%       3.000000     1.000000    373.000000   -37.802250     1.000000\n",
              "75%       4.000000     2.000000    628.000000   -37.758200     2.000000\n",
              "max       8.000000     8.000000  37000.000000   -37.457090    10.000000"
            ]
          },
          "metadata": {
            "tags": []
          },
          "execution_count": 73
        }
      ]
    },
    {
      "cell_type": "code",
      "metadata": {
        "colab": {
          "base_uri": "https://localhost:8080/",
          "height": 204
        },
        "id": "v5TN-YMVHGnJ",
        "outputId": "933314b2-4f45-4cee-defb-be57228e7b3b"
      },
      "source": [
        "X.head()"
      ],
      "execution_count": 74,
      "outputs": [
        {
          "output_type": "execute_result",
          "data": {
            "text/html": [
              "<div>\n",
              "<style scoped>\n",
              "    .dataframe tbody tr th:only-of-type {\n",
              "        vertical-align: middle;\n",
              "    }\n",
              "\n",
              "    .dataframe tbody tr th {\n",
              "        vertical-align: top;\n",
              "    }\n",
              "\n",
              "    .dataframe thead th {\n",
              "        text-align: right;\n",
              "    }\n",
              "</style>\n",
              "<table border=\"1\" class=\"dataframe\">\n",
              "  <thead>\n",
              "    <tr style=\"text-align: right;\">\n",
              "      <th></th>\n",
              "      <th>Rooms</th>\n",
              "      <th>Bathroom</th>\n",
              "      <th>Landsize</th>\n",
              "      <th>Lattitude</th>\n",
              "      <th>Car</th>\n",
              "    </tr>\n",
              "  </thead>\n",
              "  <tbody>\n",
              "    <tr>\n",
              "      <th>1</th>\n",
              "      <td>2</td>\n",
              "      <td>1.0</td>\n",
              "      <td>156.0</td>\n",
              "      <td>-37.8079</td>\n",
              "      <td>0.0</td>\n",
              "    </tr>\n",
              "    <tr>\n",
              "      <th>2</th>\n",
              "      <td>3</td>\n",
              "      <td>2.0</td>\n",
              "      <td>134.0</td>\n",
              "      <td>-37.8093</td>\n",
              "      <td>0.0</td>\n",
              "    </tr>\n",
              "    <tr>\n",
              "      <th>4</th>\n",
              "      <td>4</td>\n",
              "      <td>1.0</td>\n",
              "      <td>120.0</td>\n",
              "      <td>-37.8072</td>\n",
              "      <td>2.0</td>\n",
              "    </tr>\n",
              "    <tr>\n",
              "      <th>6</th>\n",
              "      <td>3</td>\n",
              "      <td>2.0</td>\n",
              "      <td>245.0</td>\n",
              "      <td>-37.8024</td>\n",
              "      <td>0.0</td>\n",
              "    </tr>\n",
              "    <tr>\n",
              "      <th>7</th>\n",
              "      <td>2</td>\n",
              "      <td>1.0</td>\n",
              "      <td>256.0</td>\n",
              "      <td>-37.8060</td>\n",
              "      <td>2.0</td>\n",
              "    </tr>\n",
              "  </tbody>\n",
              "</table>\n",
              "</div>"
            ],
            "text/plain": [
              "   Rooms  Bathroom  Landsize  Lattitude  Car\n",
              "1      2       1.0     156.0   -37.8079  0.0\n",
              "2      3       2.0     134.0   -37.8093  0.0\n",
              "4      4       1.0     120.0   -37.8072  2.0\n",
              "6      3       2.0     245.0   -37.8024  0.0\n",
              "7      2       1.0     256.0   -37.8060  2.0"
            ]
          },
          "metadata": {
            "tags": []
          },
          "execution_count": 74
        }
      ]
    },
    {
      "cell_type": "code",
      "metadata": {
        "colab": {
          "base_uri": "https://localhost:8080/",
          "height": 648
        },
        "id": "tRB2cKcXR1mE",
        "outputId": "67d9c959-6380-4300-ab93-7857ed1554a9"
      },
      "source": [
        "X.boxplot()\n",
        "X.hist()"
      ],
      "execution_count": 75,
      "outputs": [
        {
          "output_type": "execute_result",
          "data": {
            "text/plain": [
              "array([[<matplotlib.axes._subplots.AxesSubplot object at 0x7f7a5dd08290>,\n",
              "        <matplotlib.axes._subplots.AxesSubplot object at 0x7f7a52a49a10>],\n",
              "       [<matplotlib.axes._subplots.AxesSubplot object at 0x7f7a52ab9450>,\n",
              "        <matplotlib.axes._subplots.AxesSubplot object at 0x7f7a52aa9910>],\n",
              "       [<matplotlib.axes._subplots.AxesSubplot object at 0x7f7a52a9a610>,\n",
              "        <matplotlib.axes._subplots.AxesSubplot object at 0x7f7a52b07c90>]],\n",
              "      dtype=object)"
            ]
          },
          "metadata": {
            "tags": []
          },
          "execution_count": 75
        },
        {
          "output_type": "display_data",
          "data": {
            "image/png": "[encoded data removed]",
            "text/plain": [
              "<Figure size 432x288 with 1 Axes>"
            ]
          },
          "metadata": {
            "tags": [],
            "needs_background": "light"
          }
        },
        {
          "output_type": "display_data",
          "data": {
            "image/png": "[encoded data removed]",
            "text/plain": [
              "<Figure size 432x288 with 6 Axes>"
            ]
          },
          "metadata": {
            "tags": [],
            "needs_background": "light"
          }
        }
      ]
    },
    {
      "cell_type": "code",
      "metadata": {
        "colab": {
          "base_uri": "https://localhost:8080/",
          "height": 297
        },
        "id": "84z6mdjBHGnJ",
        "outputId": "3d8e1553-8ac2-4ac8-c3c9-bf70b214f7b9"
      },
      "source": [
        "#normalize X\n",
        "# Normalization typically means rescales the values into a range of [0,1]\n",
        "X_train_norm=getNormalizedData(X);\n",
        "X_train_norm.describe()\n",
        "#X_train_norm.head()"
      ],
      "execution_count": 76,
      "outputs": [
        {
          "output_type": "execute_result",
          "data": {
            "text/html": [
              "<div>\n",
              "<style scoped>\n",
              "    .dataframe tbody tr th:only-of-type {\n",
              "        vertical-align: middle;\n",
              "    }\n",
              "\n",
              "    .dataframe tbody tr th {\n",
              "        vertical-align: top;\n",
              "    }\n",
              "\n",
              "    .dataframe thead th {\n",
              "        text-align: right;\n",
              "    }\n",
              "</style>\n",
              "<table border=\"1\" class=\"dataframe\">\n",
              "  <thead>\n",
              "    <tr style=\"text-align: right;\">\n",
              "      <th></th>\n",
              "      <th>Rooms</th>\n",
              "      <th>Bathroom</th>\n",
              "      <th>Landsize</th>\n",
              "      <th>Lattitude</th>\n",
              "      <th>Car</th>\n",
              "    </tr>\n",
              "  </thead>\n",
              "  <tbody>\n",
              "    <tr>\n",
              "      <th>count</th>\n",
              "      <td>6196.000000</td>\n",
              "      <td>6196.000000</td>\n",
              "      <td>6196.000000</td>\n",
              "      <td>6196.000000</td>\n",
              "      <td>6196.000000</td>\n",
              "    </tr>\n",
              "    <tr>\n",
              "      <th>mean</th>\n",
              "      <td>0.275915</td>\n",
              "      <td>0.082334</td>\n",
              "      <td>0.012730</td>\n",
              "      <td>0.504381</td>\n",
              "      <td>0.157360</td>\n",
              "    </tr>\n",
              "    <tr>\n",
              "      <th>std</th>\n",
              "      <td>0.138726</td>\n",
              "      <td>0.101623</td>\n",
              "      <td>0.024255</td>\n",
              "      <td>0.107159</td>\n",
              "      <td>0.092995</td>\n",
              "    </tr>\n",
              "    <tr>\n",
              "      <th>min</th>\n",
              "      <td>0.000000</td>\n",
              "      <td>0.000000</td>\n",
              "      <td>0.000000</td>\n",
              "      <td>0.000000</td>\n",
              "      <td>0.000000</td>\n",
              "    </tr>\n",
              "    <tr>\n",
              "      <th>25%</th>\n",
              "      <td>0.142857</td>\n",
              "      <td>0.000000</td>\n",
              "      <td>0.004108</td>\n",
              "      <td>0.437227</td>\n",
              "      <td>0.100000</td>\n",
              "    </tr>\n",
              "    <tr>\n",
              "      <th>50%</th>\n",
              "      <td>0.285714</td>\n",
              "      <td>0.000000</td>\n",
              "      <td>0.010081</td>\n",
              "      <td>0.512369</td>\n",
              "      <td>0.100000</td>\n",
              "    </tr>\n",
              "    <tr>\n",
              "      <th>75%</th>\n",
              "      <td>0.428571</td>\n",
              "      <td>0.142857</td>\n",
              "      <td>0.016973</td>\n",
              "      <td>0.574601</td>\n",
              "      <td>0.200000</td>\n",
              "    </tr>\n",
              "    <tr>\n",
              "      <th>max</th>\n",
              "      <td>1.000000</td>\n",
              "      <td>1.000000</td>\n",
              "      <td>1.000000</td>\n",
              "      <td>1.000000</td>\n",
              "      <td>1.000000</td>\n",
              "    </tr>\n",
              "  </tbody>\n",
              "</table>\n",
              "</div>"
            ],
            "text/plain": [
              "             Rooms     Bathroom     Landsize    Lattitude          Car\n",
              "count  6196.000000  6196.000000  6196.000000  6196.000000  6196.000000\n",
              "mean      0.275915     0.082334     0.012730     0.504381     0.157360\n",
              "std       0.138726     0.101623     0.024255     0.107159     0.092995\n",
              "min       0.000000     0.000000     0.000000     0.000000     0.000000\n",
              "25%       0.142857     0.000000     0.004108     0.437227     0.100000\n",
              "50%       0.285714     0.000000     0.010081     0.512369     0.100000\n",
              "75%       0.428571     0.142857     0.016973     0.574601     0.200000\n",
              "max       1.000000     1.000000     1.000000     1.000000     1.000000"
            ]
          },
          "metadata": {
            "tags": []
          },
          "execution_count": 76
        }
      ]
    },
    {
      "cell_type": "code",
      "metadata": {
        "colab": {
          "base_uri": "https://localhost:8080/"
        },
        "id": "hl1ObBvSHGnL",
        "outputId": "4624c59c-4188-4c83-fbf8-621a25035298"
      },
      "source": [
        "#FIRST MODEL\n",
        "\n",
        "from sklearn.tree import DecisionTreeRegressor\n",
        "\n",
        "# Define model. Specify a number for random_state to ensure same results each run\n",
        "#melbourne_model = DecisionTreeRegressor(random_state=1)\n",
        "\n",
        "dt_model = DecisionTreeRegressor(random_state=1)\n",
        "\n",
        "# Fit model\n",
        "#melbourne_model.fit(X, y)\n",
        "\n",
        "#dt_model.fit(X, y)\n",
        "dt_model.fit(X_train_norm, y)\n"
      ],
      "execution_count": 77,
      "outputs": [
        {
          "output_type": "execute_result",
          "data": {
            "text/plain": [
              "DecisionTreeRegressor(ccp_alpha=0.0, criterion='mse', max_depth=None,\n",
              "                      max_features=None, max_leaf_nodes=None,\n",
              "                      min_impurity_decrease=0.0, min_impurity_split=None,\n",
              "                      min_samples_leaf=1, min_samples_split=2,\n",
              "                      min_weight_fraction_leaf=0.0, presort='deprecated',\n",
              "                      random_state=1, splitter='best')"
            ]
          },
          "metadata": {
            "tags": []
          },
          "execution_count": 77
        }
      ]
    },
    {
      "cell_type": "code",
      "metadata": {
        "colab": {
          "base_uri": "https://localhost:8080/"
        },
        "id": "4QFoU1oxHGnM",
        "outputId": "8d37c755-dfbf-4de7-d580-bf332462012c"
      },
      "source": [
        "print(\"Making predictions for the following 5 houses:\")\n",
        "print(X.head())\n",
        "print(\"The predictions are\")\n",
        "print(dt_model.predict(X.head()))"
      ],
      "execution_count": 78,
      "outputs": [
        {
          "output_type": "stream",
          "text": [
            "Making predictions for the following 5 houses:\n",
            "   Rooms  Bathroom  Landsize  Lattitude  Car\n",
            "1      2       1.0     156.0   -37.8079  0.0\n",
            "2      3       2.0     134.0   -37.8093  0.0\n",
            "4      4       1.0     120.0   -37.8072  2.0\n",
            "6      3       2.0     245.0   -37.8024  0.0\n",
            "7      2       1.0     256.0   -37.8060  2.0\n",
            "The predictions are\n",
            "[8000000. 8000000. 8000000. 8000000. 8000000.]\n"
          ],
          "name": "stdout"
        }
      ]
    },
    {
      "cell_type": "code",
      "metadata": {
        "colab": {
          "base_uri": "https://localhost:8080/"
        },
        "id": "Nln3giJcHGnM",
        "outputId": "9764b030-80f0-41cc-ad71-86c94aaf9b40"
      },
      "source": [
        "#SECOND MODEL\n",
        "\n",
        "print(X_train_norm.shape[1]);\n",
        "n_inputs  = X_train_norm.shape[1]\n",
        "n_outputs= 1\n",
        "\n",
        "# get model\n",
        "#nn_model = get_nn_model_function1(n_inputs, n_outputs)\n",
        "nn_model = get_nn_model_function2(n_inputs, n_outputs)"
      ],
      "execution_count": 79,
      "outputs": [
        {
          "output_type": "stream",
          "text": [
            "5\n"
          ],
          "name": "stdout"
        }
      ]
    },
    {
      "cell_type": "code",
      "metadata": {
        "colab": {
          "base_uri": "https://localhost:8080/"
        },
        "id": "QBJ9BhjBHGnN",
        "outputId": "571d03f4-23e3-4c82-e2c5-32c97471bb83"
      },
      "source": [
        "#Train the model\n",
        "#nn_model.fit(X_train_norm, y, verbose=1, epochs=100)\n",
        "#nn_model.fit(X_train_norm, y, verbose=0, epochs=100)\n",
        "nn_model.fit(X_train_norm, y, verbose=1, epochs=20)"
      ],
      "execution_count": 80,
      "outputs": [
        {
          "output_type": "stream",
          "text": [
            "Epoch 1/20\n",
            "194/194 [==============================] - 1s 1ms/step - loss: 1603301561349.2512 - mse: 1603301561349.2512\n",
            "Epoch 2/20\n",
            "194/194 [==============================] - 0s 1ms/step - loss: 1652042057780.5129 - mse: 1652042057780.5129\n",
            "Epoch 3/20\n",
            "194/194 [==============================] - 0s 1ms/step - loss: 1584194498875.0769 - mse: 1584194498875.0769\n",
            "Epoch 4/20\n",
            "194/194 [==============================] - 0s 1ms/step - loss: 1612790766145.6411 - mse: 1612790766145.6411\n",
            "Epoch 5/20\n",
            "194/194 [==============================] - 0s 1ms/step - loss: 1555897808423.3845 - mse: 1555897808423.3845\n",
            "Epoch 6/20\n",
            "194/194 [==============================] - 0s 1ms/step - loss: 1588306072245.1692 - mse: 1588306072245.1692\n",
            "Epoch 7/20\n",
            "194/194 [==============================] - 0s 1ms/step - loss: 1467268669650.0513 - mse: 1467268669650.0513\n",
            "Epoch 8/20\n",
            "194/194 [==============================] - 0s 1ms/step - loss: 1355518523507.5283 - mse: 1355518523507.5283\n",
            "Epoch 9/20\n",
            "194/194 [==============================] - 0s 1ms/step - loss: 1127808214042.2563 - mse: 1127808214042.2563\n",
            "Epoch 10/20\n",
            "194/194 [==============================] - 0s 1ms/step - loss: 954208541837.7847 - mse: 954208541837.7847\n",
            "Epoch 11/20\n",
            "194/194 [==============================] - 0s 1ms/step - loss: 743753607430.5641 - mse: 743753607430.5641\n",
            "Epoch 12/20\n",
            "194/194 [==============================] - 0s 1ms/step - loss: 544305982122.6667 - mse: 544305982122.6667\n",
            "Epoch 13/20\n",
            "194/194 [==============================] - 0s 1ms/step - loss: 449268472973.7846 - mse: 449268472973.7846\n",
            "Epoch 14/20\n",
            "194/194 [==============================] - 0s 1ms/step - loss: 407841431173.9077 - mse: 407841431173.9077\n",
            "Epoch 15/20\n",
            "194/194 [==============================] - 0s 1ms/step - loss: 383744058898.3795 - mse: 383744058898.3795\n",
            "Epoch 16/20\n",
            "194/194 [==============================] - 0s 1ms/step - loss: 398950016866.4615 - mse: 398950016866.4615\n",
            "Epoch 17/20\n",
            "194/194 [==============================] - 0s 1ms/step - loss: 353650150856.8615 - mse: 353650150856.8615\n",
            "Epoch 18/20\n",
            "194/194 [==============================] - 0s 1ms/step - loss: 390638874855.0564 - mse: 390638874855.0564\n",
            "Epoch 19/20\n",
            "194/194 [==============================] - 0s 1ms/step - loss: 382258954155.9795 - mse: 382258954155.9795\n",
            "Epoch 20/20\n",
            "194/194 [==============================] - 0s 1ms/step - loss: 367902634887.2205 - mse: 367902634887.2205\n"
          ],
          "name": "stdout"
        },
        {
          "output_type": "execute_result",
          "data": {
            "text/plain": [
              "<tensorflow.python.keras.callbacks.History at 0x7f7a5dd082d0>"
            ]
          },
          "metadata": {
            "tags": []
          },
          "execution_count": 80
        }
      ]
    },
    {
      "cell_type": "code",
      "metadata": {
        "colab": {
          "base_uri": "https://localhost:8080/"
        },
        "id": "ZKySVFEKHGnO",
        "outputId": "a99a0782-30cf-44e6-dd32-4a090df60f00"
      },
      "source": [
        "print(\"The predictions using NN are\")\n",
        "print(nn_model.predict(X_train_norm.head()))"
      ],
      "execution_count": 81,
      "outputs": [
        {
          "output_type": "stream",
          "text": [
            "The predictions using NN are\n",
            "[[ 867279.2]\n",
            " [1036021.7]\n",
            " [1143254. ]\n",
            " [1042252.3]\n",
            " [ 978786.5]]\n"
          ],
          "name": "stdout"
        }
      ]
    },
    {
      "cell_type": "code",
      "metadata": {
        "colab": {
          "base_uri": "https://localhost:8080/"
        },
        "id": "WKDRoS1BHGnO",
        "outputId": "3cd29c19-556b-4d60-9309-bbc36b989826"
      },
      "source": [
        "print(y.head())"
      ],
      "execution_count": 82,
      "outputs": [
        {
          "output_type": "stream",
          "text": [
            "1    1035000.0\n",
            "2    1465000.0\n",
            "4    1600000.0\n",
            "6    1876000.0\n",
            "7    1636000.0\n",
            "Name: Price, dtype: float64\n"
          ],
          "name": "stdout"
        }
      ]
    },
    {
      "cell_type": "code",
      "metadata": {
        "id": "iV6EqwibHGnP"
      },
      "source": [
        "y_pred_NN=nn_model.predict(X_train_norm)\n",
        "y_pred_DT=dt_model.predict(X_train_norm)\n",
        "\n",
        "#Save predictions in files\n",
        "np.savetxt('y_pred_NN.csv', y_pred_NN, delimiter=',')\n",
        "np.savetxt('y_pred_DT.csv', y_pred_DT, delimiter=',')\n",
        "np.savetxt('X.csv', X, delimiter=',')\n",
        "np.savetxt('y.csv', y, delimiter=',')"
      ],
      "execution_count": 83,
      "outputs": []
    },
    {
      "cell_type": "code",
      "metadata": {
        "id": "5rE3txS2AN45",
        "outputId": "664ba664-5ecf-44f9-9649-bfc063b56a0c",
        "colab": {
          "base_uri": "https://localhost:8080/"
        }
      },
      "source": [
        "from google.colab import drive\n",
        "drive.mount('/content/drive')"
      ],
      "execution_count": 84,
      "outputs": [
        {
          "output_type": "stream",
          "text": [
            "Drive already mounted at /content/drive; to attempt to forcibly remount, call drive.mount(\"/content/drive\", force_remount=True).\n"
          ],
          "name": "stdout"
        }
      ]
    }
  ]
}